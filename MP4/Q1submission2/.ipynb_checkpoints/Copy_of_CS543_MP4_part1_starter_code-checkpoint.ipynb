{
 "cells": [
  {
   "cell_type": "markdown",
   "metadata": {
    "id": "wmCbxoDrADcF"
   },
   "source": [
    "# Google Colab setup with Google Drive folder\n",
    "\n",
    "This notebook provides the code you need to set up Google Colab to run and import files from within a Google Drive folder.\n",
    "\n",
    "This will allow you to upload assignment code to your Google Drive and then run the code on Google Colab machines (with free GPUs if needed). \n",
    "\n",
    "You will need to create a folder in your Google Drive to hold your assignments and you will need to open Colaboratory within this folder before running the set up code (check the link above to see how).\n",
    "\n",
    "Note: this use of Google Drive is optional, and you could also just manually copy the data into your colab runtime. Keep in mind, this won't be persistent though, and you will have to download your models / plots before the runtime shuts down."
   ]
  },
  {
   "cell_type": "markdown",
   "metadata": {
    "id": "zWhrmhqVCyGH"
   },
   "source": [
    "# Mount Google Drive\n",
    "\n",
    "This will allow the Colab machine to access Google Drive folders by mounting the drive on the machine. You will be asked to copy and paste an authentication code."
   ]
  },
  {
   "cell_type": "code",
   "execution_count": 3,
   "metadata": {
    "colab": {
     "base_uri": "https://localhost:8080/"
    },
    "id": "Wv2oKmF9AJtI",
    "outputId": "ebee8b16-7f5f-4c37-8f74-6f3d21707c3a"
   },
   "outputs": [
    {
     "name": "stdout",
     "output_type": "stream",
     "text": [
      "Drive already mounted at /content/gdrive/; to attempt to forcibly remount, call drive.mount(\"/content/gdrive/\", force_remount=True).\n"
     ]
    }
   ],
   "source": [
    "from google.colab import drive\n",
    "drive.mount('/content/gdrive/')"
   ]
  },
  {
   "cell_type": "code",
   "execution_count": 4,
   "metadata": {
    "colab": {
     "base_uri": "https://localhost:8080/"
    },
    "id": "kKGxaMcmP_Et",
    "outputId": "6478ffe8-8096-4a9a-f763-cb4fe3be989e"
   },
   "outputs": [
    {
     "name": "stdout",
     "output_type": "stream",
     "text": [
      "gdrive\tsample_data\n"
     ]
    }
   ],
   "source": [
    "!ls"
   ]
  },
  {
   "cell_type": "markdown",
   "metadata": {
    "id": "4Qs04PPwDOFy"
   },
   "source": [
    "# Change directory to allow imports\n",
    "\n",
    "\n",
    "As noted above, you should create a Google Drive folder to hold all your assignment files. You will need to add this code to the top of any python notebook you run to be able to import python files from your drive assignment folder (you should change the file path below to be your own assignment folder)."
   ]
  },
  {
   "cell_type": "code",
   "execution_count": 5,
   "metadata": {
    "id": "UA2-UyfpEc9O"
   },
   "outputs": [],
   "source": [
    "import os\n",
    "if not os.path.exists(\"/content/gdrive/My Drive/Colab Notebooks/CS_543_MP4\"):\n",
    "    os.makedirs(\"/content/gdrive/My Drive/Colab Notebooks/CS_543_MP4\")\n",
    "os.chdir(\"/content/gdrive/My Drive/Colab Notebooks/CS_543_MP4\")"
   ]
  },
  {
   "cell_type": "code",
   "execution_count": 6,
   "metadata": {
    "colab": {
     "base_uri": "https://localhost:8080/"
    },
    "id": "gyRCWAIyRHWc",
    "outputId": "a5f0a06a-a2f5-4d0c-c472-9714d5beb64b"
   },
   "outputs": [
    {
     "name": "stdout",
     "output_type": "stream",
     "text": [
      "data  mp4_q1_plot.png  Q1_label_predictions.npy\n"
     ]
    }
   ],
   "source": [
    "!ls # Check if this is your MP4 folder"
   ]
  },
  {
   "cell_type": "markdown",
   "metadata": {
    "id": "DDU5aVgR9QBx"
   },
   "source": [
    "# Set up GPU and PyTorch\n",
    "\n",
    "First, ensure that your notebook on Colaboratory is set up to use GPU. After opening the notebook on Colaboratory, go to Edit>Notebook settings, select Python 3 under \"Runtime type,\" select GPU under \"Hardware accelerator,\" and save.\n",
    "\n",
    "Next, install PyTorch:"
   ]
  },
  {
   "cell_type": "code",
   "execution_count": 7,
   "metadata": {
    "colab": {
     "base_uri": "https://localhost:8080/"
    },
    "id": "kjbQtzKT9Uc2",
    "outputId": "98ae9ca6-6365-4df6-e15c-769b9956d9f1"
   },
   "outputs": [
    {
     "name": "stdout",
     "output_type": "stream",
     "text": [
      "Requirement already satisfied: torch in /usr/local/lib/python3.7/dist-packages (1.8.1+cu101)\n",
      "Requirement already satisfied: torchvision in /usr/local/lib/python3.7/dist-packages (0.9.1+cu101)\n",
      "Requirement already satisfied: typing-extensions in /usr/local/lib/python3.7/dist-packages (from torch) (3.7.4.3)\n",
      "Requirement already satisfied: numpy in /usr/local/lib/python3.7/dist-packages (from torch) (1.19.5)\n",
      "Requirement already satisfied: pillow>=4.1.1 in /usr/local/lib/python3.7/dist-packages (from torchvision) (7.1.2)\n"
     ]
    }
   ],
   "source": [
    "!pip3 install torch torchvision"
   ]
  },
  {
   "cell_type": "markdown",
   "metadata": {
    "id": "u_BekZYY9Vzx"
   },
   "source": [
    "Make sure that pytorch is installed and works with GPU:"
   ]
  },
  {
   "cell_type": "code",
   "execution_count": 8,
   "metadata": {
    "colab": {
     "base_uri": "https://localhost:8080/"
    },
    "id": "8TXSJWQa9efx",
    "outputId": "8bb8b799-efde-4157-afd9-f3bb498c33a1"
   },
   "outputs": [
    {
     "name": "stdout",
     "output_type": "stream",
     "text": [
      "tensor([1.], device='cuda:0')\n"
     ]
    }
   ],
   "source": [
    "import torch\n",
    "a = torch.Tensor([1]).cuda()\n",
    "print(a)\n"
   ]
  },
  {
   "cell_type": "code",
   "execution_count": 9,
   "metadata": {
    "colab": {
     "base_uri": "https://localhost:8080/"
    },
    "id": "OEeRNsCjRXZK",
    "outputId": "5501b6dd-7da7-4caa-f2e0-af8203b24be1"
   },
   "outputs": [
    {
     "data": {
      "text/plain": [
       "True"
      ]
     },
     "execution_count": 9,
     "metadata": {
      "tags": []
     },
     "output_type": "execute_result"
    }
   ],
   "source": [
    "torch.cuda.is_available()"
   ]
  },
  {
   "cell_type": "code",
   "execution_count": 10,
   "metadata": {
    "id": "IlyCnvf6WzjR"
   },
   "outputs": [],
   "source": [
    "# imports and useful functions\n",
    "\n",
    "from __future__ import print_function\n",
    "from PIL import Image\n",
    "import os\n",
    "import os.path\n",
    "import numpy as np\n",
    "import sys\n",
    "if sys.version_info[0] == 2:\n",
    "    import cPickle as pickle\n",
    "else:\n",
    "    import pickle\n",
    "\n",
    "import torch.utils.data as data\n",
    "from torchvision.datasets.utils import download_url, check_integrity\n",
    "import copy\n",
    "import csv\n",
    "import matplotlib\n",
    "%matplotlib inline\n",
    "import matplotlib.pyplot as plt\n",
    "import numpy as np\n",
    "import os.path\n",
    "from tqdm.notebook import tqdm\n",
    "import sys\n",
    "import torch\n",
    "import torch.utils.data\n",
    "import torchvision\n",
    "import torchvision.transforms as transforms\n",
    "\n",
    "from torch.autograd import Variable\n",
    "import torch.nn as nn\n",
    "import torch.nn.functional as F\n",
    "\n",
    "np.random.seed(111)\n",
    "torch.cuda.manual_seed_all(111)\n",
    "torch.manual_seed(111)\n",
    "\n",
    "\n",
    "class CIFAR10Test(torchvision.datasets.VisionDataset):\n",
    "    def __init__(self, root, transform=None,\n",
    "    ):\n",
    "        super(CIFAR10Test, self).__init__(root, transform=transform)\n",
    "\n",
    "        image_filename = os.path.join(root, 'cifar10_secret_test_data.npy')\n",
    "        images = np.load(image_filename)\n",
    "\n",
    "        assert len(images.shape) == 4\n",
    "        assert images.shape[0] == 2000\n",
    "        assert images.shape[1] == 32\n",
    "        assert images.shape[2] == 32\n",
    "        assert images.shape[3] == 3\n",
    "\n",
    "        self.data = images\n",
    "\n",
    "    def __getitem__(self, index):\n",
    "        img = self.data[index]\n",
    "\n",
    "        # doing this so that it is consistent with all other datasets\n",
    "        # to return a PIL Image\n",
    "        img = Image.fromarray(img)\n",
    "\n",
    "        if self.transform is not None:\n",
    "            img = self.transform(img)\n",
    "\n",
    "        return img\n",
    "\n",
    "    def __len__(self):\n",
    "        return len(self.data)\n",
    "\n",
    "\n",
    "def calculate_accuracy(dataloader, model, is_gpu):\n",
    "    \"\"\" Util function to calculate val set accuracy,\n",
    "    both overall and per class accuracy\n",
    "    Args:\n",
    "        dataloader (torch.utils.data.DataLoader): val set \n",
    "        is_gpu (bool): whether to run on GPU\n",
    "    Returns:\n",
    "        tuple: (overall accuracy, class level accuracy)\n",
    "    \"\"\"    \n",
    "    correct = 0.\n",
    "    total = 0.\n",
    "    predictions = []\n",
    "\n",
    "    class_correct = list(0. for i in range(TOTAL_CLASSES))\n",
    "    class_total = list(0. for i in range(TOTAL_CLASSES))\n",
    "\n",
    "    # Check out why .eval() is important!\n",
    "    # https://discuss.pytorch.org/t/model-train-and-model-eval-vs-model-and-model-eval/5744/2\n",
    "    model.eval()\n",
    "\n",
    "    with torch.no_grad():\n",
    "      for data in dataloader:\n",
    "          images, labels = data\n",
    "          if is_gpu:\n",
    "              images = images.cuda()\n",
    "              labels = labels.cuda()\n",
    "          outputs = model(Variable(images))\n",
    "          _, predicted = torch.max(outputs.data, 1)\n",
    "          predictions.extend(list(predicted.cpu().numpy()))\n",
    "          total += labels.size(0)\n",
    "          correct += (predicted == labels).sum()\n",
    "\n",
    "          c = (predicted == labels).squeeze()\n",
    "          for i in range(len(labels)):\n",
    "              label = labels[i]\n",
    "              class_correct[label] += c[i]\n",
    "              class_total[label] += 1\n",
    "\n",
    "    class_accuracy = 100 * np.divide(class_correct, class_total)\n",
    "    return 100*correct/total, class_accuracy\n",
    "\n",
    "\n",
    "def run_secret_test(dataloader, model, is_gpu):\n",
    "    predictions = []\n",
    "    model.eval()\n",
    "\n",
    "    with torch.no_grad():\n",
    "      for images in dataloader:\n",
    "          if is_gpu:\n",
    "              images = images.cuda()\n",
    "          outputs = model(Variable(images))\n",
    "          predicted = torch.softmax(outputs, dim=1).cpu().numpy()\n",
    "          predictions.extend(list(predicted))\n",
    "        \n",
    "    return predictions\n"
   ]
  },
  {
   "cell_type": "markdown",
   "metadata": {
    "id": "JpFMv7HtcII4"
   },
   "source": [
    "\n",
    "Training an image classifier\n",
    "----------------------------\n",
    "\n",
    "We will do the following steps in order:\n",
    "\n",
    "1. Load the randomized CIFAR10 training, validation and test datasets using\n",
    "   torchvision. Use torchvision.transforms to apply transforms on the\n",
    "   dataset.\n",
    "2. Define a Convolution Neural Network - BaseNet\n",
    "3. Define a loss function and optimizer\n",
    "4. Train the network on training data and check performance on val set.\n",
    "   Plot train loss and validation accuracies.\n",
    "5. Try the network on test data and create .npy file for submission to Gradescope"
   ]
  },
  {
   "cell_type": "code",
   "execution_count": 11,
   "metadata": {
    "id": "Ld6juH34dWWq"
   },
   "outputs": [],
   "source": [
    "# <<TODO>>: Based on the val set performance, decide how many\n",
    "# epochs are apt for your model.\n",
    "# ---------\n",
    "EPOCHS = 70\n",
    "# ---------\n",
    "\n",
    "IS_GPU = True\n",
    "TEST_BS = 256\n",
    "TOTAL_CLASSES = 10\n",
    "TRAIN_BS = 32\n",
    "PATH_TO_CIFAR10 = \"data/cifar10/\"\n",
    "PATH_TO_CIFAR10_TEST = \"data/cifar10-test/\""
   ]
  },
  {
   "cell_type": "markdown",
   "metadata": {
    "id": "aq2qOUaJeAWJ"
   },
   "source": [
    "1.**Loading CIFAR-10**\n",
    "\n",
    "We will load the CIFAR-10 dataset with builtin dataset loader from Torchvision.\n"
   ]
  },
  {
   "cell_type": "code",
   "execution_count": 12,
   "metadata": {
    "colab": {
     "base_uri": "https://localhost:8080/"
    },
    "id": "C2UcDZmtdfq3",
    "outputId": "87ffd331-0bb7-4da9-e243-f8b55c8d05e5"
   },
   "outputs": [
    {
     "name": "stdout",
     "output_type": "stream",
     "text": [
      "Files already downloaded and verified\n",
      "train_dataset data shape:  (50000, 32, 32, 3)\n",
      "train_dataset labels shape:  (50000,)\n",
      "\n",
      "val_dataset data shape:  (10000, 32, 32, 3)\n",
      "val_dataset labels shape: (10000,)\n"
     ]
    }
   ],
   "source": [
    "# The output of torchvision datasets are PILImage images of range [0, 1].\n",
    "# Using transforms.ToTensor(), transform them to Tensors of normalized range\n",
    "# [-1, 1].\n",
    "\n",
    "\n",
    "# <<TODO#1>> Use transforms.Normalize() with the right parameters to \n",
    "# make the data well conditioned (zero mean, std dev=1) for improved training.\n",
    "# <<TODO#2>> Try using transforms.RandomCrop() and/or transforms.RandomHorizontalFlip()\n",
    "# to augment training data.\n",
    "# After your edits, make sure that test_transform should have the same data\n",
    "# normalization parameters as train_transform\n",
    "# You shouldn't have any data augmentation in test_transform (val or test data is never augmented).\n",
    "# ---------------------\n",
    "train_transform = transforms.Compose([\n",
    "                  transforms.RandomHorizontalFlip(),\n",
    "                  transforms.ToTensor(),\n",
    "                  transforms.Normalize(mean = (0.5, ), std = (0.5, )),\n",
    "                  ])\n",
    "\n",
    "test_transform = transforms.Compose(\n",
    "    [transforms.ToTensor() ,\n",
    "     transforms.Normalize(mean = (0.5, ), std = (0.5, )),\n",
    "     ])\n",
    "# ---------------------\n",
    "\n",
    "#DO NOT CHANGE any line below\n",
    "train_dataset = torchvision.datasets.CIFAR10(root=PATH_TO_CIFAR10, train=True, download=True, transform=train_transform)\n",
    "val_dataset = torchvision.datasets.CIFAR10(root=PATH_TO_CIFAR10, train=False, download=False, transform=test_transform)\n",
    "test_dataset = CIFAR10Test(root=PATH_TO_CIFAR10_TEST, transform=test_transform)\n",
    "\n",
    "print(\"train_dataset data shape: \", np.array(train_dataset.data).shape)\n",
    "print(\"train_dataset labels shape: \", np.array(train_dataset.targets).shape)\n",
    "print()\n",
    "print(\"val_dataset data shape: \", np.array(val_dataset.data).shape)\n",
    "print(\"val_dataset labels shape:\", np.array(val_dataset.targets).shape)\n",
    "\n",
    "# check for Dataloader function: https://pytorch.org/docs/stable/data.html\n",
    "trainloader = torch.utils.data.DataLoader(train_dataset, batch_size=TRAIN_BS, shuffle=True, num_workers=2, drop_last=True)  #DO NOT CHANGE\n",
    "valloader = torch.utils.data.DataLoader(val_dataset, batch_size=TEST_BS, shuffle=False, num_workers=2, drop_last=False)\n",
    "testloader = torch.utils.data.DataLoader(test_dataset, batch_size=TEST_BS, shuffle=False, num_workers=2, drop_last=False) #DO NOT CHANGE\n",
    "\n",
    "# The 10 classes for FashionMNIST\n",
    "classes = [\"airplane\", \"automobile\", \"bird\", \"cat\", \"deer\", \"dog\", \"frog\", \"horse\", \"ship\", \"truck\"]"
   ]
  },
  {
   "cell_type": "markdown",
   "metadata": {
    "id": "dk1421Bpleek"
   },
   "source": [
    "2.**Visualize CIFAR-10**\n",
    "\n",
    "We will visualize some random images from the CIFAR-10 dataset."
   ]
  },
  {
   "cell_type": "code",
   "execution_count": 13,
   "metadata": {
    "colab": {
     "base_uri": "https://localhost:8080/",
     "height": 154
    },
    "id": "Lo4hAqbSS3BW",
    "outputId": "8a5f49a7-1505-4d4b-b3a1-d897fdc761a8"
   },
   "outputs": [
    {
     "data": {
      "image/png": "[encoded data removed]",
      "text/plain": [
       "<Figure size 432x288 with 1 Axes>"
      ]
     },
     "metadata": {
      "needs_background": "light",
      "tags": []
     },
     "output_type": "display_data"
    },
    {
     "name": "stdout",
     "output_type": "stream",
     "text": [
      "  cat airplane   cat truck   cat automobile   dog  bird   cat airplane   dog truck truck  bird  deer  deer\n"
     ]
    }
   ],
   "source": [
    "# Let us show some of the training images, for fun.\n",
    "# functions to show an image\n",
    "\n",
    "def imshow(img):\n",
    "    img = img / 2 + 0.5     # unnormalize\n",
    "    npimg = img.numpy()\n",
    "    plt.imshow(np.transpose(npimg, (1, 2, 0)))\n",
    "    plt.show()\n",
    "\n",
    "\n",
    "# get some random training images\n",
    "dataiter = iter(trainloader)\n",
    "images, labels = dataiter.next()\n",
    "\n",
    "# show images\n",
    "imshow(torchvision.utils.make_grid(images[:16]))\n",
    "# print labels\n",
    "print(' '.join('%5s' % classes[labels[j]] for j in range(16)))"
   ]
  },
  {
   "cell_type": "markdown",
   "metadata": {
    "id": "7gVdM0Cwlo6N"
   },
   "source": [
    "3.**Define a Convolution Neural Network**\n",
    "\n",
    "Implement the BaseNet exactly. BaseNet consists of two convolutional modules (conv-relu-maxpool) and two linear layers. The precise architecture is defined below:\n",
    "\n",
    "| Layer No.   | Layer Type  | Kernel Size | Input Dim   | Output Dim  | Input Channels | Output Channels |\n",
    "    | ----------- | ----------- | ----------- | ----------- | ----------- | ----------- | ----------- |\n",
    "    | 1 | conv2d | 5 | 32 | 28 | 3 | 6 |\n",
    "    | 2 | relu | - | 28 | 28 | 6 | 6 |\n",
    "    | 3 | maxpool2d | 2 | 28 | 14 | 6 | 6 |\n",
    "    | 4 | conv2d | 5 | 14 | 10 | 6 | 16 |\n",
    "    | 5 | relu | - | 10 | 10 | 16 | 16 |\n",
    "    | 6 | maxpool2d | 2 | 10 | 5 | 16 | 16 |\n",
    "    | 7 | linear | - | 1 | 1 | 400 | 200 |\n",
    "    | 8 | relu | - | 1 | 1 | 200 | 200 |\n",
    "    | 9 | linear | - | 1 | 1 | 200 | 10 |"
   ]
  },
  {
   "cell_type": "code",
   "execution_count": 14,
   "metadata": {
    "id": "5b_fBznndp4W"
   },
   "outputs": [],
   "source": [
    "########################################################################\n",
    "# We provide a basic network that you should understand, run and\n",
    "# eventually improve\n",
    "# <<TODO>> Add more conv layers\n",
    "# <<TODO>> Add more fully connected (fc) layers\n",
    "# <<TODO>> Add regularization layers like Batchnorm.\n",
    "#          nn.BatchNorm2d after conv layers:\n",
    "#          http://pytorch.org/docs/master/nn.html#batchnorm2d\n",
    "#          nn.BatchNorm1d after fc layers:\n",
    "#          http://pytorch.org/docs/master/nn.html#batchnorm1d\n",
    "# This is a good resource for developing a CNN for classification:\n",
    "# http://cs231n.github.io/convolutional-networks/#layers\n",
    "\n",
    "import torch.nn as nn\n",
    "import torch.nn.functional as F\n",
    "\n",
    "class BaseNet(nn.Module):\n",
    "    def __init__(self):\n",
    " \n",
    "        super(BaseNet, self).__init__()\n",
    "        self.conv1 = nn.Conv2d(3, 64, 3, padding=1)\n",
    "        self.bn1 = nn.BatchNorm2d(64)\n",
    "\n",
    "        self.conv2 = nn.Conv2d(64, 64, 3, padding=1)\n",
    "        self.bn2 = nn.BatchNorm2d(64)\n",
    "        self.conv3 = nn.Conv2d(64, 64, 3, padding=1)\n",
    "        self.bn3 = nn.BatchNorm2d(64)\n",
    "\n",
    "        self.conv4 = nn.Conv2d(64, 64, 3, padding=1)\n",
    "        self.bn4 = nn.BatchNorm2d(64)\n",
    "        self.conv5 = nn.Conv2d(64, 64, 3, padding=1)\n",
    "        self.bn5 = nn.BatchNorm2d(64)\n",
    "\n",
    "        self.conv6 = nn.Conv2d(64, 128, 3, padding=1)\n",
    "        self.bn6 = nn.BatchNorm2d(128)\n",
    "        self.conv7 = nn.Conv2d(128, 128, 3, padding=1)\n",
    "        self.bn7 = nn.BatchNorm2d(128)\n",
    "\n",
    "        self.pool1 = nn.MaxPool2d(2, 2)\n",
    "\n",
    "        self.conv8 = nn.Conv2d(128, 128, 3, padding=1)\n",
    "        self.bn8 = nn.BatchNorm2d(128)\n",
    "        self.conv9 = nn.Conv2d(128, 128, 3, padding=1)\n",
    "        self.bn9 = nn.BatchNorm2d(128)\n",
    "\n",
    "        self.conv10 = nn.Conv2d(128, 128, 3, padding=1)\n",
    "        self.bn10 = nn.BatchNorm2d(128)\n",
    "        self.conv11 = nn.Conv2d(128, 128, 3, padding=1)\n",
    "        self.bn11 = nn.BatchNorm2d(128)\n",
    "\n",
    "        self.conv12 = nn.Conv2d(128, 256, 3, padding=1)\n",
    "        self.bn12 = nn.BatchNorm2d(256)\n",
    "        self.conv13 = nn.Conv2d(256, 256, 3, padding=1)\n",
    "        self.bn13 = nn.BatchNorm2d(256)\n",
    "\n",
    "        self.pool2 = nn.MaxPool2d(2, 2)\n",
    "\n",
    "        self.conv14 = nn.Conv2d(256, 256, 3, padding=1)\n",
    "        self.bn14 = nn.BatchNorm2d(256)\n",
    "        self.conv15 = nn.Conv2d(256, 256, 3, padding=1)\n",
    "        self.bn15 = nn.BatchNorm2d(256)\n",
    "\n",
    "        self.conv16 = nn.Conv2d(256, 256, 3, padding=1)\n",
    "        self.bn16 = nn.BatchNorm2d(256)\n",
    "        self.conv17 = nn.Conv2d(256, 256, 3, padding=1)\n",
    "        self.bn17 = nn.BatchNorm2d(256)\n",
    "\n",
    "        self.conv18 = nn.Conv2d(256, 512, 3, padding=1)\n",
    "        self.bn18 = nn.BatchNorm2d(512)\n",
    "        self.conv19 = nn.Conv2d(512, 512, 3, padding=1)\n",
    "        self.bn19 = nn.BatchNorm2d(512)\n",
    "\n",
    "\n",
    "        self.pool3 = nn.MaxPool2d(2, 2)\n",
    "\n",
    "        self.conv20 = nn.Conv2d(512, 512, 3, padding=1)\n",
    "        self.bn20 = nn.BatchNorm2d(512)\n",
    "        self.conv21 = nn.Conv2d(512, 512, 3, padding=1)\n",
    "        self.bn21 = nn.BatchNorm2d(512)\n",
    "\n",
    "        self.conv22 = nn.Conv2d(512, 512, 3, padding=1)\n",
    "        self.bn22 = nn.BatchNorm2d(512)\n",
    "        self.conv23 = nn.Conv2d(512, 512, 3, padding=1)\n",
    "        self.bn23 = nn.BatchNorm2d(512)\n",
    "\n",
    "        self.conv24 = nn.Conv2d(512, 1024, 3, padding=1)\n",
    "        self.bn24 = nn.BatchNorm2d(1024)\n",
    "        self.conv25 = nn.Conv2d(1024, 1024, 3, padding=1)\n",
    "        self.bn25 = nn.BatchNorm2d(1024)\n",
    "\n",
    "        self.pool4 = nn.AvgPool2d(4, 4)\n",
    "\n",
    "        self.fc_net = nn.Sequential(\n",
    "                nn.Linear(1024, 512),\n",
    "                nn.ReLU(inplace=True),\n",
    "                nn.Linear(512, TOTAL_CLASSES)\n",
    "        )\n",
    "\n",
    "    def forward(self, x):\n",
    "        x = F.relu(self.bn1(self.conv1(x)))\n",
    "\n",
    "        x = F.relu(self.bn2(self.conv2(x)))\n",
    "        x = F.relu(self.bn3(self.conv2(x)))\n",
    "        x = F.relu(self.bn4(self.conv4(x)))\n",
    "        x = F.relu(self.bn5(self.conv5(x)))\n",
    "\n",
    "        x = F.relu(self.bn6(self.conv6(x)))\n",
    "        x = F.relu(self.bn7(self.conv7(x)))\n",
    "        x = self.pool1(x)\n",
    "\n",
    "\n",
    "        x = F.relu(self.bn8(self.conv8(x)))\n",
    "        x = F.relu(self.bn9(self.conv9(x)))\n",
    "\n",
    "        x = F.relu(self.bn10(self.conv10(x)))\n",
    "        x = F.relu(self.bn11(self.conv11(x)))\n",
    "\n",
    "\n",
    "        x = F.relu(self.bn12(self.conv12(x)))\n",
    "        x = F.relu(self.bn13(self.conv13(x)))\n",
    "\n",
    "        x = self.pool2(x)\n",
    "\n",
    "\n",
    "        x = F.relu(self.bn14(self.conv14(x)))\n",
    "        x = F.relu(self.bn15(self.conv15(x)))\n",
    "\n",
    "\n",
    "        x = F.relu(self.bn16(self.conv16(x)))\n",
    "        x = F.relu(self.bn17(self.conv17(x)))\n",
    "\n",
    "\n",
    "        x = F.relu(self.bn18(self.conv18(x)))\n",
    "        x = F.relu(self.bn19(self.conv19(x)))\n",
    "        x = self.pool3(x)\n",
    " \n",
    "\n",
    "        x = F.relu(self.bn20(self.conv20(x)))\n",
    "        x = F.relu(self.bn21(self.conv21(x)))\n",
    "\n",
    "        x = F.relu(self.bn22(self.conv22(x)))\n",
    "        x = F.relu(self.bn23(self.conv23(x)))\n",
    "\n",
    "        x = F.relu(self.bn24(self.conv24(x)))\n",
    "        x = F.relu(self.bn25(self.conv25(x)))\n",
    "\n",
    "        x = self.pool4(x)\n",
    "\n",
    "        x = x.view(-1, 1024)\n",
    "\n",
    "        x = self.fc_net(x)\n",
    "\n",
    "\n",
    "        return x\n",
    "\n",
    "# Create an instance of the nn.module class defined above:\n",
    "net = BaseNet()\n",
    "\n",
    "# Test your BaseNet with some random input\n",
    "dummy_input = torch.rand((1, 3, 32, 32))\n",
    "output = net(dummy_input)\n",
    "assert output.shape == torch.Size([1, 10])\n",
    "\n",
    "# For training on GPU, we need to transfer net and data onto the GPU\n",
    "# http://pytorch.org/tutorials/beginner/blitz/cifar10_tutorial.html#training-on-gpu\n",
    "if IS_GPU:\n",
    "    net = net.cuda()\n"
   ]
  },
  {
   "cell_type": "code",
   "execution_count": 15,
   "metadata": {
    "colab": {
     "base_uri": "https://localhost:8080/"
    },
    "id": "KTtJrAGjXElg",
    "outputId": "f710bb66-bff3-4e48-a2bf-a79886668631"
   },
   "outputs": [
    {
     "name": "stdout",
     "output_type": "stream",
     "text": [
      "BaseNet(\n",
      "  (conv1): Conv2d(3, 64, kernel_size=(3, 3), stride=(1, 1), padding=(1, 1))\n",
      "  (bn1): BatchNorm2d(64, eps=1e-05, momentum=0.1, affine=True, track_running_stats=True)\n",
      "  (conv2): Conv2d(64, 64, kernel_size=(3, 3), stride=(1, 1), padding=(1, 1))\n",
      "  (bn2): BatchNorm2d(64, eps=1e-05, momentum=0.1, affine=True, track_running_stats=True)\n",
      "  (conv3): Conv2d(64, 64, kernel_size=(3, 3), stride=(1, 1), padding=(1, 1))\n",
      "  (bn3): BatchNorm2d(64, eps=1e-05, momentum=0.1, affine=True, track_running_stats=True)\n",
      "  (conv4): Conv2d(64, 64, kernel_size=(3, 3), stride=(1, 1), padding=(1, 1))\n",
      "  (bn4): BatchNorm2d(64, eps=1e-05, momentum=0.1, affine=True, track_running_stats=True)\n",
      "  (conv5): Conv2d(64, 64, kernel_size=(3, 3), stride=(1, 1), padding=(1, 1))\n",
      "  (bn5): BatchNorm2d(64, eps=1e-05, momentum=0.1, affine=True, track_running_stats=True)\n",
      "  (conv6): Conv2d(64, 128, kernel_size=(3, 3), stride=(1, 1), padding=(1, 1))\n",
      "  (bn6): BatchNorm2d(128, eps=1e-05, momentum=0.1, affine=True, track_running_stats=True)\n",
      "  (conv7): Conv2d(128, 128, kernel_size=(3, 3), stride=(1, 1), padding=(1, 1))\n",
      "  (bn7): BatchNorm2d(128, eps=1e-05, momentum=0.1, affine=True, track_running_stats=True)\n",
      "  (pool1): MaxPool2d(kernel_size=2, stride=2, padding=0, dilation=1, ceil_mode=False)\n",
      "  (conv8): Conv2d(128, 128, kernel_size=(3, 3), stride=(1, 1), padding=(1, 1))\n",
      "  (bn8): BatchNorm2d(128, eps=1e-05, momentum=0.1, affine=True, track_running_stats=True)\n",
      "  (conv9): Conv2d(128, 128, kernel_size=(3, 3), stride=(1, 1), padding=(1, 1))\n",
      "  (bn9): BatchNorm2d(128, eps=1e-05, momentum=0.1, affine=True, track_running_stats=True)\n",
      "  (conv10): Conv2d(128, 128, kernel_size=(3, 3), stride=(1, 1), padding=(1, 1))\n",
      "  (bn10): BatchNorm2d(128, eps=1e-05, momentum=0.1, affine=True, track_running_stats=True)\n",
      "  (conv11): Conv2d(128, 128, kernel_size=(3, 3), stride=(1, 1), padding=(1, 1))\n",
      "  (bn11): BatchNorm2d(128, eps=1e-05, momentum=0.1, affine=True, track_running_stats=True)\n",
      "  (conv12): Conv2d(128, 256, kernel_size=(3, 3), stride=(1, 1), padding=(1, 1))\n",
      "  (bn12): BatchNorm2d(256, eps=1e-05, momentum=0.1, affine=True, track_running_stats=True)\n",
      "  (conv13): Conv2d(256, 256, kernel_size=(3, 3), stride=(1, 1), padding=(1, 1))\n",
      "  (bn13): BatchNorm2d(256, eps=1e-05, momentum=0.1, affine=True, track_running_stats=True)\n",
      "  (pool2): MaxPool2d(kernel_size=2, stride=2, padding=0, dilation=1, ceil_mode=False)\n",
      "  (conv14): Conv2d(256, 256, kernel_size=(3, 3), stride=(1, 1), padding=(1, 1))\n",
      "  (bn14): BatchNorm2d(256, eps=1e-05, momentum=0.1, affine=True, track_running_stats=True)\n",
      "  (conv15): Conv2d(256, 256, kernel_size=(3, 3), stride=(1, 1), padding=(1, 1))\n",
      "  (bn15): BatchNorm2d(256, eps=1e-05, momentum=0.1, affine=True, track_running_stats=True)\n",
      "  (conv16): Conv2d(256, 256, kernel_size=(3, 3), stride=(1, 1), padding=(1, 1))\n",
      "  (bn16): BatchNorm2d(256, eps=1e-05, momentum=0.1, affine=True, track_running_stats=True)\n",
      "  (conv17): Conv2d(256, 256, kernel_size=(3, 3), stride=(1, 1), padding=(1, 1))\n",
      "  (bn17): BatchNorm2d(256, eps=1e-05, momentum=0.1, affine=True, track_running_stats=True)\n",
      "  (conv18): Conv2d(256, 512, kernel_size=(3, 3), stride=(1, 1), padding=(1, 1))\n",
      "  (bn18): BatchNorm2d(512, eps=1e-05, momentum=0.1, affine=True, track_running_stats=True)\n",
      "  (conv19): Conv2d(512, 512, kernel_size=(3, 3), stride=(1, 1), padding=(1, 1))\n",
      "  (bn19): BatchNorm2d(512, eps=1e-05, momentum=0.1, affine=True, track_running_stats=True)\n",
      "  (pool3): MaxPool2d(kernel_size=2, stride=2, padding=0, dilation=1, ceil_mode=False)\n",
      "  (conv20): Conv2d(512, 512, kernel_size=(3, 3), stride=(1, 1), padding=(1, 1))\n",
      "  (bn20): BatchNorm2d(512, eps=1e-05, momentum=0.1, affine=True, track_running_stats=True)\n",
      "  (conv21): Conv2d(512, 512, kernel_size=(3, 3), stride=(1, 1), padding=(1, 1))\n",
      "  (bn21): BatchNorm2d(512, eps=1e-05, momentum=0.1, affine=True, track_running_stats=True)\n",
      "  (conv22): Conv2d(512, 512, kernel_size=(3, 3), stride=(1, 1), padding=(1, 1))\n",
      "  (bn22): BatchNorm2d(512, eps=1e-05, momentum=0.1, affine=True, track_running_stats=True)\n",
      "  (conv23): Conv2d(512, 512, kernel_size=(3, 3), stride=(1, 1), padding=(1, 1))\n",
      "  (bn23): BatchNorm2d(512, eps=1e-05, momentum=0.1, affine=True, track_running_stats=True)\n",
      "  (conv24): Conv2d(512, 1024, kernel_size=(3, 3), stride=(1, 1), padding=(1, 1))\n",
      "  (bn24): BatchNorm2d(1024, eps=1e-05, momentum=0.1, affine=True, track_running_stats=True)\n",
      "  (conv25): Conv2d(1024, 1024, kernel_size=(3, 3), stride=(1, 1), padding=(1, 1))\n",
      "  (bn25): BatchNorm2d(1024, eps=1e-05, momentum=0.1, affine=True, track_running_stats=True)\n",
      "  (pool4): AvgPool2d(kernel_size=4, stride=4, padding=0)\n",
      "  (fc_net): Sequential(\n",
      "    (0): Linear(in_features=1024, out_features=512, bias=True)\n",
      "    (1): ReLU(inplace=True)\n",
      "    (2): Linear(in_features=512, out_features=10, bias=True)\n",
      "  )\n",
      ")\n"
     ]
    }
   ],
   "source": [
    "# TODO: paste output in your report\n",
    "print(net)"
   ]
  },
  {
   "cell_type": "markdown",
   "metadata": {
    "id": "bZ6wlwMymr2m"
   },
   "source": [
    "4.**Define a loss function and optimizer**"
   ]
  },
  {
   "cell_type": "code",
   "execution_count": 16,
   "metadata": {
    "id": "zAZjIcLOdp-W"
   },
   "outputs": [],
   "source": [
    "########################################################################\n",
    "# Here we use Cross-Entropy loss and SGD with momentum.\n",
    "# The CrossEntropyLoss criterion already includes softmax within its\n",
    "# implementation. That's why we don't use a softmax in our model\n",
    "# definition.\n",
    "\n",
    "import torch.optim as optim\n",
    "criterion = nn.CrossEntropyLoss()\n",
    "\n",
    "# Tune the learning rate.\n",
    "# See whether the momentum and weight decay is useful or not\n",
    "optimizer = optim.SGD(net.parameters(), lr=0.005, momentum=0.9, weight_decay=0.0)\n"
   ]
  },
  {
   "cell_type": "markdown",
   "metadata": {
    "id": "5bZXUK5Dmv12"
   },
   "source": [
    "5.**Train the model**"
   ]
  },
  {
   "cell_type": "code",
   "execution_count": 17,
   "metadata": {
    "colab": {
     "base_uri": "https://localhost:8080/",
     "height": 1000,
     "referenced_widgets": [
      "8914640016554a7f854418f0516e7e1e",
      "bb01c60f584844d980d0946203ab707b",
      "e92b9f1eb95d4c499f19be8d553ecb10",
      "f4ee3043c8d54d1881a654fee0bbc044",
      "596a9d7da80944e199f2faed4b64b485",
      "623f302ebb4e46569637a5c81b92ed73",
      "3d123e046137481f9724b325a85ae291",
      "008161186428453c923e3e3a901f43e1"
     ]
    },
    "id": "Ku7eF366dyUP",
    "outputId": "e9db8b17-72e9-41a5-9b31-aa57037855cd"
   },
   "outputs": [
    {
     "data": {
      "application/vnd.jupyter.widget-view+json": {
       "model_id": "8914640016554a7f854418f0516e7e1e",
       "version_major": 2,
       "version_minor": 0
      },
      "text/plain": [
       "HBox(children=(FloatProgress(value=0.0, max=70.0), HTML(value='')))"
      ]
     },
     "metadata": {
      "tags": []
     },
     "output_type": "display_data"
    },
    {
     "name": "stdout",
     "output_type": "stream",
     "text": [
      "[1] loss: 1.607\n",
      "Accuracy of the network on the val images: 51 %\n",
      "[2] loss: 1.341\n",
      "Accuracy of the network on the val images: 59 %\n",
      "[3] loss: 1.072\n",
      "Accuracy of the network on the val images: 62 %\n",
      "[4] loss: 0.916\n",
      "Accuracy of the network on the val images: 68 %\n",
      "[5] loss: 0.805\n",
      "Accuracy of the network on the val images: 71 %\n",
      "[6] loss: 0.707\n",
      "Accuracy of the network on the val images: 74 %\n",
      "[7] loss: 0.639\n",
      "Accuracy of the network on the val images: 78 %\n",
      "[8] loss: 0.576\n",
      "Accuracy of the network on the val images: 76 %\n",
      "[9] loss: 0.525\n",
      "Accuracy of the network on the val images: 80 %\n",
      "[10] loss: 0.479\n",
      "Accuracy of the network on the val images: 79 %\n",
      "[11] loss: 0.447\n",
      "Accuracy of the network on the val images: 80 %\n",
      "[12] loss: 0.409\n",
      "Accuracy of the network on the val images: 83 %\n",
      "[13] loss: 0.371\n",
      "Accuracy of the network on the val images: 83 %\n",
      "[14] loss: 0.357\n",
      "Accuracy of the network on the val images: 82 %\n",
      "[15] loss: 0.321\n",
      "Accuracy of the network on the val images: 83 %\n",
      "[16] loss: 0.299\n",
      "Accuracy of the network on the val images: 84 %\n",
      "[17] loss: 0.274\n",
      "Accuracy of the network on the val images: 84 %\n",
      "[18] loss: 0.258\n",
      "Accuracy of the network on the val images: 83 %\n",
      "[19] loss: 0.237\n",
      "Accuracy of the network on the val images: 85 %\n",
      "[20] loss: 0.216\n",
      "Accuracy of the network on the val images: 84 %\n",
      "[21] loss: 0.205\n",
      "Accuracy of the network on the val images: 85 %\n",
      "[22] loss: 0.185\n",
      "Accuracy of the network on the val images: 85 %\n",
      "[23] loss: 0.180\n",
      "Accuracy of the network on the val images: 85 %\n",
      "[24] loss: 0.168\n",
      "Accuracy of the network on the val images: 85 %\n",
      "[25] loss: 0.163\n",
      "Accuracy of the network on the val images: 85 %\n",
      "[26] loss: 0.146\n",
      "Accuracy of the network on the val images: 85 %\n",
      "[27] loss: 0.139\n",
      "Accuracy of the network on the val images: 85 %\n",
      "[28] loss: 0.136\n",
      "Accuracy of the network on the val images: 85 %\n",
      "[29] loss: 0.133\n",
      "Accuracy of the network on the val images: 86 %\n",
      "[30] loss: 0.115\n",
      "Accuracy of the network on the val images: 85 %\n",
      "[31] loss: 0.112\n",
      "Accuracy of the network on the val images: 85 %\n",
      "[32] loss: 0.096\n",
      "Accuracy of the network on the val images: 86 %\n",
      "[33] loss: 0.097\n",
      "Accuracy of the network on the val images: 86 %\n",
      "[34] loss: 0.089\n",
      "Accuracy of the network on the val images: 85 %\n",
      "[35] loss: 0.089\n",
      "Accuracy of the network on the val images: 86 %\n",
      "[36] loss: 0.079\n",
      "Accuracy of the network on the val images: 85 %\n",
      "[37] loss: 0.076\n",
      "Accuracy of the network on the val images: 86 %\n",
      "[38] loss: 0.072\n",
      "Accuracy of the network on the val images: 86 %\n",
      "[39] loss: 0.072\n",
      "Accuracy of the network on the val images: 85 %\n",
      "[40] loss: 0.070\n",
      "Accuracy of the network on the val images: 86 %\n",
      "[41] loss: 0.067\n",
      "Accuracy of the network on the val images: 86 %\n",
      "[42] loss: 0.060\n",
      "Accuracy of the network on the val images: 86 %\n",
      "[43] loss: 0.058\n",
      "Accuracy of the network on the val images: 86 %\n",
      "[44] loss: 0.057\n",
      "Accuracy of the network on the val images: 86 %\n",
      "[45] loss: 0.053\n",
      "Accuracy of the network on the val images: 85 %\n",
      "[46] loss: 0.056\n",
      "Accuracy of the network on the val images: 85 %\n",
      "[47] loss: 0.046\n",
      "Accuracy of the network on the val images: 86 %\n",
      "[48] loss: 0.052\n",
      "Accuracy of the network on the val images: 86 %\n",
      "[49] loss: 0.042\n",
      "Accuracy of the network on the val images: 86 %\n",
      "[50] loss: 0.044\n",
      "Accuracy of the network on the val images: 86 %\n",
      "[51] loss: 0.042\n",
      "Accuracy of the network on the val images: 86 %\n",
      "[52] loss: 0.035\n",
      "Accuracy of the network on the val images: 86 %\n",
      "[53] loss: 0.036\n",
      "Accuracy of the network on the val images: 86 %\n",
      "[54] loss: 0.037\n",
      "Accuracy of the network on the val images: 87 %\n",
      "[55] loss: 0.037\n",
      "Accuracy of the network on the val images: 85 %\n",
      "[56] loss: 0.034\n",
      "Accuracy of the network on the val images: 86 %\n",
      "[57] loss: 0.034\n",
      "Accuracy of the network on the val images: 86 %\n",
      "[58] loss: 0.028\n",
      "Accuracy of the network on the val images: 85 %\n",
      "[59] loss: 0.030\n",
      "Accuracy of the network on the val images: 86 %\n",
      "[60] loss: 0.026\n",
      "Accuracy of the network on the val images: 86 %\n",
      "[61] loss: 0.025\n",
      "Accuracy of the network on the val images: 86 %\n",
      "[62] loss: 0.029\n",
      "Accuracy of the network on the val images: 87 %\n",
      "[63] loss: 0.027\n",
      "Accuracy of the network on the val images: 87 %\n",
      "[64] loss: 0.024\n",
      "Accuracy of the network on the val images: 86 %\n",
      "[65] loss: 0.027\n",
      "Accuracy of the network on the val images: 86 %\n",
      "[66] loss: 0.025\n",
      "Accuracy of the network on the val images: 87 %\n",
      "[67] loss: 0.024\n",
      "Accuracy of the network on the val images: 87 %\n",
      "[68] loss: 0.023\n",
      "Accuracy of the network on the val images: 86 %\n",
      "[69] loss: 0.023\n",
      "Accuracy of the network on the val images: 86 %\n",
      "[70] loss: 0.021\n",
      "Accuracy of the network on the val images: 86 %\n",
      "\n",
      "Finished Training\n"
     ]
    }
   ],
   "source": [
    "########################################################################\n",
    "# We simply have to loop over our data iterator, and feed the inputs to the\n",
    "# network and optimize. We evaluate the validation accuracy at each\n",
    "# epoch and plot these values over the number of epochs\n",
    "# Nothing to change here\n",
    "# -----------------------------\n",
    "plt.ioff()\n",
    "fig = plt.figure()\n",
    "train_loss_over_epochs = []\n",
    "val_accuracy_over_epochs = []\n",
    "\n",
    "for epoch in tqdm(range(EPOCHS), total=EPOCHS):  # loop over the dataset multiple times\n",
    "\n",
    "    running_loss = 0.0\n",
    "    for i, data in enumerate(trainloader, 0):\n",
    "        # get the inputs\n",
    "        inputs, labels = data\n",
    "\n",
    "        if IS_GPU:\n",
    "            inputs = inputs.cuda()\n",
    "            labels = labels.cuda()\n",
    "\n",
    "        # zero the parameter gradients\n",
    "        optimizer.zero_grad()\n",
    "\n",
    "        # forward + backward + optimize\n",
    "        outputs = net(inputs)\n",
    "        loss = criterion(outputs, labels)\n",
    "        loss.backward()\n",
    "        optimizer.step()\n",
    "\n",
    "        # print statistics\n",
    "        running_loss += loss.item()\n",
    "    \n",
    "    # Normalizing the loss by the total number of train batches\n",
    "    running_loss/=len(trainloader)\n",
    "    print('[%d] loss: %.3f' %\n",
    "          (epoch + 1, running_loss))\n",
    "\n",
    "    # Scale of 0.0 to 100.0\n",
    "    # Calculate validation set accuracy of the existing model\n",
    "    val_accuracy, val_classwise_accuracy = \\\n",
    "        calculate_accuracy(valloader, net, IS_GPU)\n",
    "    print('Accuracy of the network on the val images: %d %%' % (val_accuracy))\n",
    "\n",
    "    # # Optionally print classwise accuracies\n",
    "    # for c_i in range(TOTAL_CLASSES):\n",
    "    #     print('Accuracy of %5s : %2d %%' % (\n",
    "    #         classes[c_i], 100 * val_classwise_accuracy[c_i]))\n",
    "\n",
    "    train_loss_over_epochs.append(running_loss)\n",
    "    val_accuracy_over_epochs.append(val_accuracy)\n",
    "    if val_accuracy > 88:\n",
    "      break\n",
    "# -----------------------------\n",
    "\n",
    "\n",
    "# Plot train loss over epochs and val set accuracy over epochs\n",
    "# Nothing to change here\n",
    "# -------------\n",
    "plt.subplot(2, 1, 1)\n",
    "plt.ylabel('Train loss')\n",
    "plt.plot(np.arange(EPOCHS), train_loss_over_epochs, 'k-')\n",
    "plt.title('train loss and val accuracy')\n",
    "plt.xticks(np.arange(EPOCHS, dtype=int))\n",
    "plt.grid(True)\n",
    "\n",
    "plt.subplot(2, 1, 2)\n",
    "plt.plot(np.arange(EPOCHS), val_accuracy_over_epochs, 'b-')\n",
    "plt.ylabel('Val accuracy')\n",
    "plt.xlabel('Epochs')\n",
    "plt.xticks(np.arange(EPOCHS, dtype=int))\n",
    "plt.grid(True)\n",
    "plt.savefig(\"mp4_q1_plot.png\")\n",
    "plt.close(fig)\n",
    "print('Finished Training')\n",
    "# -------------"
   ]
  },
  {
   "cell_type": "markdown",
   "metadata": {
    "id": "pQUWyGBcm0FG"
   },
   "source": [
    "6.**Evaluate the validation accuracy of your final model**"
   ]
  },
  {
   "cell_type": "code",
   "execution_count": 21,
   "metadata": {
    "colab": {
     "base_uri": "https://localhost:8080/"
    },
    "id": "v1GE8t3mRdy9",
    "outputId": "6f82646f-6587-4d22-edb7-8cf6dd3f9ce4"
   },
   "outputs": [
    {
     "name": "stdout",
     "output_type": "stream",
     "text": [
      "Accuracy of the final network on the val images: 86.9 %\n",
      "Accuracy of airplane : 89.5 %\n",
      "Accuracy of automobile : 94.3 %\n",
      "Accuracy of  bird : 77.2 %\n",
      "Accuracy of   cat : 73.3 %\n",
      "Accuracy of  deer : 88.5 %\n",
      "Accuracy of   dog : 76.8 %\n",
      "Accuracy of  frog : 93.3 %\n",
      "Accuracy of horse : 92.4 %\n",
      "Accuracy of  ship : 90.6 %\n",
      "Accuracy of truck : 92.7 %\n"
     ]
    }
   ],
   "source": [
    "val_accuracy, val_classwise_accuracy = \\\n",
    "        calculate_accuracy(valloader, net, IS_GPU)\n",
    "print('Accuracy of the final network on the val images: %.1f %%' % (val_accuracy))\n",
    "\n",
    "# Optionally print classwise accuracies\n",
    "for c_i in range(TOTAL_CLASSES):\n",
    "    print('Accuracy of %5s : %.1f %%' % (\n",
    "        classes[c_i], val_classwise_accuracy[c_i]))\n"
   ]
  },
  {
   "cell_type": "markdown",
   "metadata": {
    "id": "d4mbmrI2m6cc"
   },
   "source": [
    "7.**Visualize test set images**"
   ]
  },
  {
   "cell_type": "code",
   "execution_count": 22,
   "metadata": {
    "colab": {
     "base_uri": "https://localhost:8080/",
     "height": 137
    },
    "id": "lumxYpO7R0Fk",
    "outputId": "abc665ea-2ce6-487a-a814-a5f4f5804769"
   },
   "outputs": [
    {
     "data": {
      "image/png": "[encoded data removed]",
      "text/plain": [
       "<Figure size 432x288 with 1 Axes>"
      ]
     },
     "metadata": {
      "needs_background": "light",
      "tags": []
     },
     "output_type": "display_data"
    }
   ],
   "source": [
    "# get some random training images\n",
    "dataiter = iter(testloader)\n",
    "images = dataiter.next()\n",
    "\n",
    "# show images\n",
    "imshow(torchvision.utils.make_grid(images[:16]))"
   ]
  },
  {
   "cell_type": "markdown",
   "metadata": {
    "id": "FViai01ZsVeu"
   },
   "source": [
    "8.**Evaluate your final model on the test set**\n",
    "\n",
    "Submit `predictions.npy` to Gradescope to see your model's performance on the test set."
   ]
  },
  {
   "cell_type": "code",
   "execution_count": 23,
   "metadata": {
    "id": "bLkObaKujdaE"
   },
   "outputs": [],
   "source": [
    "# run inference on the test set\n",
    "predictions = run_secret_test(testloader, net, IS_GPU)\n",
    "# save predictions\n",
    "predictions = np.asarray(predictions)\n",
    "np.save(\"Q1_label_predictions.npy\", predictions)"
   ]
  },
  {
   "cell_type": "code",
   "execution_count": null,
   "metadata": {
    "id": "Qwwd2H21VA-9"
   },
   "outputs": [],
   "source": []
  }
 ],
 "metadata": {
  "accelerator": "GPU",
  "colab": {
   "collapsed_sections": [],
   "name": "Copy of CS543_MP4_part1_starter_code.ipynb",
   "provenance": []
  },
  "kernelspec": {
   "display_name": "Python 3",
   "language": "python",
   "name": "python3"
  },
  "language_info": {
   "codemirror_mode": {
    "name": "ipython",
    "version": 3
   },
   "file_extension": ".py",
   "mimetype": "text/x-python",
   "name": "python",
   "nbconvert_exporter": "python",
   "pygments_lexer": "ipython3",
   "version": "3.8.5"
  },
  "widgets": {
   "application/vnd.jupyter.widget-state+json": {
    "008161186428453c923e3e3a901f43e1": {
     "model_module": "@jupyter-widgets/base",
     "model_name": "LayoutModel",
     "state": {
      "_model_module": "@jupyter-widgets/base",
      "_model_module_version": "1.2.0",
      "_model_name": "LayoutModel",
      "_view_count": null,
      "_view_module": "@jupyter-widgets/base",
      "_view_module_version": "1.2.0",
      "_view_name": "LayoutView",
      "align_content": null,
      "align_items": null,
      "align_self": null,
      "border": null,
      "bottom": null,
      "display": null,
      "flex": null,
      "flex_flow": null,
      "grid_area": null,
      "grid_auto_columns": null,
      "grid_auto_flow": null,
      "grid_auto_rows": null,
      "grid_column": null,
      "grid_gap": null,
      "grid_row": null,
      "grid_template_areas": null,
      "grid_template_columns": null,
      "grid_template_rows": null,
      "height": null,
      "justify_content": null,
      "justify_items": null,
      "left": null,
      "margin": null,
      "max_height": null,
      "max_width": null,
      "min_height": null,
      "min_width": null,
      "object_fit": null,
      "object_position": null,
      "order": null,
      "overflow": null,
      "overflow_x": null,
      "overflow_y": null,
      "padding": null,
      "right": null,
      "top": null,
      "visibility": null,
      "width": null
     }
    },
    "3d123e046137481f9724b325a85ae291": {
     "model_module": "@jupyter-widgets/controls",
     "model_name": "DescriptionStyleModel",
     "state": {
      "_model_module": "@jupyter-widgets/controls",
      "_model_module_version": "1.5.0",
      "_model_name": "DescriptionStyleModel",
      "_view_count": null,
      "_view_module": "@jupyter-widgets/base",
      "_view_module_version": "1.2.0",
      "_view_name": "StyleView",
      "description_width": ""
     }
    },
    "596a9d7da80944e199f2faed4b64b485": {
     "model_module": "@jupyter-widgets/controls",
     "model_name": "ProgressStyleModel",
     "state": {
      "_model_module": "@jupyter-widgets/controls",
      "_model_module_version": "1.5.0",
      "_model_name": "ProgressStyleModel",
      "_view_count": null,
      "_view_module": "@jupyter-widgets/base",
      "_view_module_version": "1.2.0",
      "_view_name": "StyleView",
      "bar_color": null,
      "description_width": "initial"
     }
    },
    "623f302ebb4e46569637a5c81b92ed73": {
     "model_module": "@jupyter-widgets/base",
     "model_name": "LayoutModel",
     "state": {
      "_model_module": "@jupyter-widgets/base",
      "_model_module_version": "1.2.0",
      "_model_name": "LayoutModel",
      "_view_count": null,
      "_view_module": "@jupyter-widgets/base",
      "_view_module_version": "1.2.0",
      "_view_name": "LayoutView",
      "align_content": null,
      "align_items": null,
      "align_self": null,
      "border": null,
      "bottom": null,
      "display": null,
      "flex": null,
      "flex_flow": null,
      "grid_area": null,
      "grid_auto_columns": null,
      "grid_auto_flow": null,
      "grid_auto_rows": null,
      "grid_column": null,
      "grid_gap": null,
      "grid_row": null,
      "grid_template_areas": null,
      "grid_template_columns": null,
      "grid_template_rows": null,
      "height": null,
      "justify_content": null,
      "justify_items": null,
      "left": null,
      "margin": null,
      "max_height": null,
      "max_width": null,
      "min_height": null,
      "min_width": null,
      "object_fit": null,
      "object_position": null,
      "order": null,
      "overflow": null,
      "overflow_x": null,
      "overflow_y": null,
      "padding": null,
      "right": null,
      "top": null,
      "visibility": null,
      "width": null
     }
    },
    "8914640016554a7f854418f0516e7e1e": {
     "model_module": "@jupyter-widgets/controls",
     "model_name": "HBoxModel",
     "state": {
      "_dom_classes": [],
      "_model_module": "@jupyter-widgets/controls",
      "_model_module_version": "1.5.0",
      "_model_name": "HBoxModel",
      "_view_count": null,
      "_view_module": "@jupyter-widgets/controls",
      "_view_module_version": "1.5.0",
      "_view_name": "HBoxView",
      "box_style": "",
      "children": [
       "IPY_MODEL_e92b9f1eb95d4c499f19be8d553ecb10",
       "IPY_MODEL_f4ee3043c8d54d1881a654fee0bbc044"
      ],
      "layout": "IPY_MODEL_bb01c60f584844d980d0946203ab707b"
     }
    },
    "bb01c60f584844d980d0946203ab707b": {
     "model_module": "@jupyter-widgets/base",
     "model_name": "LayoutModel",
     "state": {
      "_model_module": "@jupyter-widgets/base",
      "_model_module_version": "1.2.0",
      "_model_name": "LayoutModel",
      "_view_count": null,
      "_view_module": "@jupyter-widgets/base",
      "_view_module_version": "1.2.0",
      "_view_name": "LayoutView",
      "align_content": null,
      "align_items": null,
      "align_self": null,
      "border": null,
      "bottom": null,
      "display": null,
      "flex": null,
      "flex_flow": null,
      "grid_area": null,
      "grid_auto_columns": null,
      "grid_auto_flow": null,
      "grid_auto_rows": null,
      "grid_column": null,
      "grid_gap": null,
      "grid_row": null,
      "grid_template_areas": null,
      "grid_template_columns": null,
      "grid_template_rows": null,
      "height": null,
      "justify_content": null,
      "justify_items": null,
      "left": null,
      "margin": null,
      "max_height": null,
      "max_width": null,
      "min_height": null,
      "min_width": null,
      "object_fit": null,
      "object_position": null,
      "order": null,
      "overflow": null,
      "overflow_x": null,
      "overflow_y": null,
      "padding": null,
      "right": null,
      "top": null,
      "visibility": null,
      "width": null
     }
    },
    "e92b9f1eb95d4c499f19be8d553ecb10": {
     "model_module": "@jupyter-widgets/controls",
     "model_name": "FloatProgressModel",
     "state": {
      "_dom_classes": [],
      "_model_module": "@jupyter-widgets/controls",
      "_model_module_version": "1.5.0",
      "_model_name": "FloatProgressModel",
      "_view_count": null,
      "_view_module": "@jupyter-widgets/controls",
      "_view_module_version": "1.5.0",
      "_view_name": "ProgressView",
      "bar_style": "success",
      "description": "100%",
      "description_tooltip": null,
      "layout": "IPY_MODEL_623f302ebb4e46569637a5c81b92ed73",
      "max": 70,
      "min": 0,
      "orientation": "horizontal",
      "style": "IPY_MODEL_596a9d7da80944e199f2faed4b64b485",
      "value": 70
     }
    },
    "f4ee3043c8d54d1881a654fee0bbc044": {
     "model_module": "@jupyter-widgets/controls",
     "model_name": "HTMLModel",
     "state": {
      "_dom_classes": [],
      "_model_module": "@jupyter-widgets/controls",
      "_model_module_version": "1.5.0",
      "_model_name": "HTMLModel",
      "_view_count": null,
      "_view_module": "@jupyter-widgets/controls",
      "_view_module_version": "1.5.0",
      "_view_name": "HTMLView",
      "description": "",
      "description_tooltip": null,
      "layout": "IPY_MODEL_008161186428453c923e3e3a901f43e1",
      "placeholder": "​",
      "style": "IPY_MODEL_3d123e046137481f9724b325a85ae291",
      "value": " 70/70 [2:12:39&lt;00:00, 113.71s/it]"
     }
    }
   }
  }
 },
 "nbformat": 4,
 "nbformat_minor": 1
}
